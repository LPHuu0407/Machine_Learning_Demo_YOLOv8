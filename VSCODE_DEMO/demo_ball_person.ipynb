{
 "cells": [
  {
   "cell_type": "code",
   "execution_count": 3,
   "metadata": {},
   "outputs": [
    {
     "name": "stderr",
     "output_type": "stream",
     "text": [
      "Ultralytics YOLOv8.0.206  Python-3.11.6 torch-2.1.0+cpu CPU (11th Gen Intel Core(TM) i3-1115G4 3.00GHz)\n",
      "Setup complete  (4 CPUs, 15.7 GB RAM, 56.6/200.0 GB disk)\n"
     ]
    }
   ],
   "source": [
    "%pip install ultralytics\n",
    "import ultralytics\n",
    "ultralytics.checks()"
   ]
  },
  {
   "cell_type": "code",
   "execution_count": null,
   "metadata": {},
   "outputs": [],
   "source": [
    "# Training\n",
    "!yolo train model=D:\\MY_JOURNEY\\THE_JOURNEY_III\\MACHINE_LEARNING\\DEMO\\VSCODE_DEMO\\runs\\detect\\train4\\weights\\last.pt data=D:\\MY_JOURNEY\\THE_JOURNEY_III\\MACHINE_LEARNING\\DEMO\\VSCODE_DEMO\\coco128.yaml epochs=5 imgsz=640"
   ]
  },
  {
   "cell_type": "code",
   "execution_count": null,
   "metadata": {},
   "outputs": [],
   "source": [
    "#Test\n",
    "!yolo predict model=D:\\MY_JOURNEY\\THE_JOURNEY_III\\MACHINE_LEARNING\\DEMO\\VSCODE_DEMO\\runs\\detect\\train5\\weights\\best.pt source=D:\\MY_JOURNEY\\THE_JOURNEY_III\\MACHINE_LEARNING\\DEMO\\VSCODE_DEMO\\Image_test\\test5.jpg save = True"
   ]
  }
 ],
 "metadata": {
  "kernelspec": {
   "display_name": "Python 3",
   "language": "python",
   "name": "python3"
  },
  "language_info": {
   "codemirror_mode": {
    "name": "ipython",
    "version": 3
   },
   "file_extension": ".py",
   "mimetype": "text/x-python",
   "name": "python",
   "nbconvert_exporter": "python",
   "pygments_lexer": "ipython3",
   "version": "3.11.6"
  }
 },
 "nbformat": 4,
 "nbformat_minor": 2
}
